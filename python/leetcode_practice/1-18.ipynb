{
 "cells": [
  {
   "cell_type": "code",
   "execution_count": null,
   "metadata": {},
   "outputs": [],
   "source": [
    "def minWindow(s, t):\n",
    "    \"\"\"\n",
    "    :type s: str\n",
    "    :type t: str\n",
    "    :rtype: str\n",
    "    \"\"\"\n",
    "    track = {}\n",
    "    res = []\n",
    "    min_length = float('inf')\n",
    "\n",
    "    for i in range(len(t)):\n",
    "        if t[i] in track:\n",
    "            track[t[i]] += 1\n",
    "        else:\n",
    "            track[t[i]] = 1\n",
    "    wall = 0\n",
    "    counter = len(t)\n",
    "    for i in range(len(s)):\n",
    "        if track.get(s[i]):\n",
    "            track[s[i]] -= 1\n",
    "            if track[s[i]] >= 0:\n",
    "                counter -= 1 \n",
    "            if counter == 0: \n",
    "                while \n"
   ]
  }
 ],
 "metadata": {
  "kernelspec": {
   "display_name": "Python 3",
   "language": "python",
   "name": "python3"
  },
  "language_info": {
   "codemirror_mode": {
    "name": "ipython",
    "version": 3
   },
   "file_extension": ".py",
   "mimetype": "text/x-python",
   "name": "python",
   "nbconvert_exporter": "python",
   "pygments_lexer": "ipython3",
   "version": "3.7.0"
  }
 },
 "nbformat": 4,
 "nbformat_minor": 2
}
