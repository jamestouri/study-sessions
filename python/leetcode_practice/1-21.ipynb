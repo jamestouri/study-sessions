{
 "cells": [
  {
   "cell_type": "code",
   "execution_count": 18,
   "metadata": {},
   "outputs": [],
   "source": [
    "def maxTurbulenceSize(arr):\n",
    "    res = 2\n",
    "    is_larger = True \n",
    "    if arr[1] < arr[0]:\n",
    "        is_larger = False \n",
    "    wall = 0\n",
    "    counter = 1\n",
    "    for i in range(2, len(arr)):\n",
    "        if arr[i] > arr[i - 1]:\n",
    "            if is_larger:\n",
    "                res = max(counter, res)\n",
    "                is_larger = False \n",
    "            else:\n",
    "                res = max(counter, res)\n",
    "                is_larger = False \n",
    "                counter = 0\n",
    "        elif arr[i] < arr[i - 1]:\n",
    "            if is_larger:\n",
    "                res = max(counter, res)\n",
    "                is_larger = True \n",
    "                counter = 0 \n",
    "            else:\n",
    "                res = max(counter, res)\n",
    "                counter += 1 \n",
    "                is_larger = True\n",
    "    return res \n",
    "                    \n",
    "    "
   ]
  },
  {
   "cell_type": "code",
   "execution_count": 19,
   "metadata": {},
   "outputs": [
    {
     "data": {
      "text/plain": [
       "3"
      ]
     },
     "execution_count": 19,
     "metadata": {},
     "output_type": "execute_result"
    }
   ],
   "source": [
    "maxTurbulenceSize(\n",
    "[0,1,1,0,1,0,1,1,0,0])"
   ]
  },
  {
   "cell_type": "code",
   "execution_count": null,
   "metadata": {},
   "outputs": [],
   "source": []
  }
 ],
 "metadata": {
  "kernelspec": {
   "display_name": "Python 3",
   "language": "python",
   "name": "python3"
  },
  "language_info": {
   "codemirror_mode": {
    "name": "ipython",
    "version": 3
   },
   "file_extension": ".py",
   "mimetype": "text/x-python",
   "name": "python",
   "nbconvert_exporter": "python",
   "pygments_lexer": "ipython3",
   "version": "3.7.0"
  }
 },
 "nbformat": 4,
 "nbformat_minor": 2
}
