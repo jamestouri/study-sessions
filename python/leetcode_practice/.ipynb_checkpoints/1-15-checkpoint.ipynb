{
 "cells": [
  {
   "cell_type": "code",
   "execution_count": 66,
   "metadata": {},
   "outputs": [],
   "source": [
    "from heapq import heappush, heappop\n",
    "import collections \n",
    "def leastInterval(tasks, n):\n",
    "    curr_time = 0\n",
    "    h = [] \n",
    "    for k, v in collections.Counter(tasks).items():\n",
    "        heappush(h, (v, k))\n",
    "    while h:\n",
    "        i = 0\n",
    "        temp = []\n",
    "        while i <= n:\n",
    "            curr_time += 1 \n",
    "            if h:\n",
    "                x, y = heappop(h)\n",
    "                if x != 1:\n",
    "                    temp.append((x - 1, y))\n",
    "            if not h and not temp:\n",
    "                break \n",
    "            else:\n",
    "                i += 1 \n",
    "        for item in temp:\n",
    "            heappush(h, item)\n",
    "    return curr_time"
   ]
  },
  {
   "cell_type": "code",
   "execution_count": 67,
   "metadata": {},
   "outputs": [
    {
     "name": "stdout",
     "output_type": "stream",
     "text": [
      "in\n"
     ]
    },
    {
     "data": {
      "text/plain": [
       "8"
      ]
     },
     "execution_count": 67,
     "metadata": {},
     "output_type": "execute_result"
    }
   ],
   "source": [
    "leastInterval([\"A\",\"A\",\"A\",\"B\",\"B\",\"B\"], n = 2)"
   ]
  },
  {
   "cell_type": "code",
   "execution_count": 31,
   "metadata": {},
   "outputs": [],
   "source": [
    "# Input: tasks = [\"A\",\"A\",\"A\",\"B\",\"B\",\"B\"], n = 2\n",
    "# Output: 8\n",
    "# Explanation: A -> B -> idle -> A -> B -> idle -> A -> B."
   ]
  },
  {
   "cell_type": "code",
   "execution_count": null,
   "metadata": {},
   "outputs": [],
   "source": [
    "def removeInvalidParentheses(s):\n",
    "    max_length = 0\n",
    "    res = []\n",
    "    def parens_help(pars, n):\n",
    "        if n >= len(s):\n",
    "            return \n",
    "        if valid_parens(pars):\n",
    "            if max_length < len(pars):\n",
    "                res = []\n",
    "                res.append(pars)\n",
    "            elif max_length == len(pars):\n",
    "                res.append(pars)\n",
    "            return \n",
    "        parens_help(pars, n + 1)\n",
    "        parens_help(pars[0: n + 1] + pars[n + 1:])\n",
    "        \n",
    "    parens_help(s, 0)\n",
    "    parens_help(s[1:], 0)\n",
    "    return res \n",
    "    \n",
    "def valid_parens(string):\n",
    "    stack = []\n",
    "    for i in range(len(string)):\n",
    "        if string[i] == '(':\n",
    "            stack.append(i)\n",
    "        elif string[i] == ')':\n",
    "            if len(stack) == 0:\n",
    "                return False \n",
    "            else:\n",
    "                stack.pop()\n",
    "    return stack is None "
   ]
  },
  {
   "cell_type": "code",
   "execution_count": 3,
   "metadata": {},
   "outputs": [],
   "source": [
    "removeInvalidParentheses(\"()())()\")"
   ]
  },
  {
   "cell_type": "code",
   "execution_count": 2,
   "metadata": {},
   "outputs": [],
   "source": [
    "def numberToWords(num):\n",
    "    pass"
   ]
  },
  {
   "cell_type": "code",
   "execution_count": 3,
   "metadata": {},
   "outputs": [],
   "source": [
    "numberToWords(123)"
   ]
  },
  {
   "cell_type": "code",
   "execution_count": 4,
   "metadata": {},
   "outputs": [
    {
     "data": {
      "text/plain": [
       "3"
      ]
     },
     "execution_count": 4,
     "metadata": {},
     "output_type": "execute_result"
    }
   ],
   "source": [
    "123 % 10"
   ]
  },
  {
   "cell_type": "code",
   "execution_count": 28,
   "metadata": {},
   "outputs": [],
   "source": [
    "def one(num):\n",
    "    def one(num):\n",
    "            switch = {\n",
    "                1: 'One',\n",
    "                2: 'Two',\n",
    "                3: 'Three',\n",
    "                4: 'Four',\n",
    "                5: 'Five',\n",
    "                6: 'Six',\n",
    "                7: 'Seven',\n",
    "                8: 'Eight',\n",
    "                9: 'Nine'\n",
    "            }\n",
    "            return switch.get(num)\n",
    "        \n",
    "    def teens(num):\n",
    "        switch = {\n",
    "            10: 'Ten',\n",
    "            11: 'Eleven',\n",
    "            12: 'Twelve',\n",
    "            13: 'Thirteen',\n",
    "            14: 'Fourteen',\n",
    "            15: 'Fifteen',\n",
    "            16: 'Sixteen',\n",
    "            17: 'Seventeen',\n",
    "            18: 'Eighteen',\n",
    "            19: 'Nineteen'\n",
    "        }\n",
    "        return switch.get(num)\n",
    "\n",
    "    def ten(num):\n",
    "        switcher = {\n",
    "            2: 'Twenty',\n",
    "            3: 'Thirty',\n",
    "            4: 'Forty',\n",
    "            5: 'Fifty',\n",
    "            6: 'Sixty',\n",
    "            7: 'Seventy',\n",
    "            8: 'Eighty',\n",
    "            9: 'Ninety'\n",
    "        }\n",
    "        return switch.get(num)\n",
    "\n",
    "    def two(num):\n",
    "        if not num:\n",
    "            return ''\n",
    "        elif num < 10:\n",
    "            return one(num)\n",
    "        elif num < 20:\n",
    "            return teens(num)\n",
    "        else:\n",
    "            teens = num // 10\n",
    "            rest = num - teens * 10 \n",
    "            return ten(tenner) + ' ' + one(rest) if rest else ten(tenner)\n",
    "\n",
    "    def three(nums):\n",
    "        hundred = num // 100 \n",
    "        rest = num - hundred * 100 \n",
    "        if hundred and rest:\n",
    "            return one(hundred) + ' Hundred ' + two(rest)\n",
    "        elif not hundred and rest:\n",
    "            return two(rest)\n",
    "        elif hundred and not rest:\n",
    "            return one(hundred) + ' Hundred'\n",
    "\n",
    "\n",
    "    billion = num // 1000000000\n",
    "    million = (num - billion * 1000000000) // 1000000\n",
    "    thousand = (num - billion * 1000000000 - million * 1000000) // 1000\n",
    "    rest = num - billion * 1000000000 - million * 1000000 - thousand * 1000\n",
    "\n",
    "    if not num:\n",
    "        return 'Zero'\n",
    "\n",
    "    result = ''\n",
    "    if billion:        \n",
    "        result = three(billion) + ' Billion'\n",
    "    if million:\n",
    "        result += ' ' if result else ''    \n",
    "        result += three(million) + ' Million'\n",
    "    if thousand:\n",
    "        result += ' ' if result else ''\n",
    "        result += three(thousand) + ' Thousand'\n",
    "    if rest:\n",
    "        result += ' ' if result else ''\n",
    "        result += three(rest)\n",
    "    return result"
   ]
  },
  {
   "cell_type": "code",
   "execution_count": 24,
   "metadata": {},
   "outputs": [],
   "source": [
    "a = {'1': 1}"
   ]
  }
 ],
 "metadata": {
  "kernelspec": {
   "display_name": "Python 3",
   "language": "python",
   "name": "python3"
  },
  "language_info": {
   "codemirror_mode": {
    "name": "ipython",
    "version": 3
   },
   "file_extension": ".py",
   "mimetype": "text/x-python",
   "name": "python",
   "nbconvert_exporter": "python",
   "pygments_lexer": "ipython3",
   "version": "3.7.0"
  }
 },
 "nbformat": 4,
 "nbformat_minor": 2
}
