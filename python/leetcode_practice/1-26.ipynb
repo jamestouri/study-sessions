{
 "cells": [
  {
   "cell_type": "code",
   "execution_count": 8,
   "metadata": {},
   "outputs": [],
   "source": [
    "   def validPalindrome(s):\n",
    "        \"\"\"\n",
    "        :type s: str\n",
    "        :rtype: bool\n",
    "        \"\"\"\n",
    "        left, right = 0, len(s) - 1\n",
    "        \n",
    "        while left < right:\n",
    "            print(left, right)\n",
    "            if s[left] != s[right]:\n",
    "                one, two = s[left: right], s[left + 1: right + 1]\n",
    "                print(one, two)\n",
    "                return one == one[::-1] or two == two[::-1]\n",
    "            left += 1\n",
    "            right -= 1\n",
    "        return True"
   ]
  },
  {
   "cell_type": "code",
   "execution_count": 13,
   "metadata": {},
   "outputs": [
    {
     "name": "stdout",
     "output_type": "stream",
     "text": [
      "0 8\n",
      "1 7\n",
      "2 6\n",
      "3 5\n",
      "db bc\n"
     ]
    },
    {
     "data": {
      "text/plain": [
       "False"
      ]
     },
     "execution_count": 13,
     "metadata": {},
     "output_type": "execute_result"
    }
   ],
   "source": [
    "validPalindrome('baadbcaab')"
   ]
  },
  {
   "cell_type": "code",
   "execution_count": 21,
   "metadata": {},
   "outputs": [],
   "source": [
    "def nextPermutation(nums):\n",
    "    i = len(nums) - 1\n",
    "    j = - 1\n",
    "    while i > 0:\n",
    "        if nums[i - 1] < nums[i]:\n",
    "            j = i - 1\n",
    "            break \n",
    "        i -= 1 \n",
    "    print(j)\n",
    "    for i in range(len(nums) - 1, -1, -1):\n",
    "        if nums[i] > nums[j]:\n",
    "            nums[i], nums[j] = nums[j], nums[i]\n",
    "            nums[j + 1:] = sorted(nums[j + 1:])\n",
    "            return "
   ]
  },
  {
   "cell_type": "code",
   "execution_count": 23,
   "metadata": {},
   "outputs": [
    {
     "name": "stdout",
     "output_type": "stream",
     "text": [
      "2\n"
     ]
    }
   ],
   "source": [
    "nums = [1, 3, 2, 8, 5]\n",
    "nextPermutation(nums)"
   ]
  },
  {
   "cell_type": "markdown",
   "metadata": {},
   "source": [
    "nums'"
   ]
  },
  {
   "cell_type": "code",
   "execution_count": 24,
   "metadata": {},
   "outputs": [
    {
     "data": {
      "text/plain": [
       "[1, 3, 5, 2, 8]"
      ]
     },
     "execution_count": 24,
     "metadata": {},
     "output_type": "execute_result"
    }
   ],
   "source": [
    "nums"
   ]
  },
  {
   "cell_type": "code",
   "execution_count": 28,
   "metadata": {},
   "outputs": [],
   "source": [
    "from collections import defaultdict\n",
    "import collections\n",
    "def findOrder(numCourses, prerequisites):\n",
    "    dic = {i: set() for i in range(numCourses)}\n",
    "    neigh = collections.defaultdict(set)\n",
    "    for i, j in prerequisites:\n",
    "        dic[i].add(j)\n",
    "        neigh[j].add(i)\n",
    "    # queue stores the courses which have no prerequisites\n",
    "    queue = collections.deque([i for i in dic if not dic[i]])\n",
    "    count, res = 0, []\n",
    "    while queue:\n",
    "        node = queue.popleft()\n",
    "        res.append(node)\n",
    "        count += 1\n",
    "        for i in neigh[node]:\n",
    "            dic[i].remove(node)\n",
    "            if not dic[i]:\n",
    "                queue.append(i)\n",
    "    return res if count == numCourses else []"
   ]
  },
  {
   "cell_type": "code",
   "execution_count": 29,
   "metadata": {},
   "outputs": [
    {
     "name": "stdout",
     "output_type": "stream",
     "text": [
      "1\n",
      "2\n",
      "3\n",
      "3\n"
     ]
    },
    {
     "data": {
      "text/plain": [
       "[0, 1, 2, 3]"
      ]
     },
     "execution_count": 29,
     "metadata": {},
     "output_type": "execute_result"
    }
   ],
   "source": [
    "findOrder(4, [[1,0],[2,0],[3,1],[3,2]])"
   ]
  },
  {
   "cell_type": "code",
   "execution_count": 9,
   "metadata": {},
   "outputs": [],
   "source": [
    "def k_sum(arr, k):\n",
    "    def k_helper(the_sum, i):\n",
    "        if the_sum > k:\n",
    "            return False \n",
    "        if i >= len(arr):\n",
    "            return False \n",
    "        if the_sum == k:\n",
    "            return True \n",
    "        return k_helper(the_sum + arr[i], i + 1) or k_helper(the_sum, i + 1)\n",
    "    return k_helper(0, 0)\n",
    "    "
   ]
  },
  {
   "cell_type": "code",
   "execution_count": 10,
   "metadata": {},
   "outputs": [
    {
     "data": {
      "text/plain": [
       "True"
      ]
     },
     "execution_count": 10,
     "metadata": {},
     "output_type": "execute_result"
    }
   ],
   "source": [
    "k_sum([3, 5, 1, 5, 7, 12, 1, 4], 13)"
   ]
  },
  {
   "cell_type": "code",
   "execution_count": null,
   "metadata": {},
   "outputs": [],
   "source": []
  }
 ],
 "metadata": {
  "kernelspec": {
   "display_name": "Python 3",
   "language": "python",
   "name": "python3"
  },
  "language_info": {
   "codemirror_mode": {
    "name": "ipython",
    "version": 3
   },
   "file_extension": ".py",
   "mimetype": "text/x-python",
   "name": "python",
   "nbconvert_exporter": "python",
   "pygments_lexer": "ipython3",
   "version": "3.7.0"
  }
 },
 "nbformat": 4,
 "nbformat_minor": 2
}
