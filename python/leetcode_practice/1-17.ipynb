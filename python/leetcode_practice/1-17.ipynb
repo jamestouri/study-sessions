{
 "cells": [
  {
   "cell_type": "code",
   "execution_count": 1,
   "metadata": {},
   "outputs": [],
   "source": [
    "import heapq\n",
    "from heapq import heappop, heappush"
   ]
  },
  {
   "cell_type": "code",
   "execution_count": 2,
   "metadata": {},
   "outputs": [],
   "source": [
    "def findKthLargest(nums, k):\n",
    "    heap = []\n",
    "    for i in range(len(nums)):\n",
    "        heapq.heappush(heap, nums[i])\n",
    "        if len(heap) > k:\n",
    "            heapq.heappop(heap)\n",
    "    return heapq.heappop(heap)\n",
    "        "
   ]
  },
  {
   "cell_type": "code",
   "execution_count": 3,
   "metadata": {},
   "outputs": [
    {
     "data": {
      "text/plain": [
       "4"
      ]
     },
     "execution_count": 3,
     "metadata": {},
     "output_type": "execute_result"
    }
   ],
   "source": [
    "findKthLargest([3,2,3,1,2,4,5,5,6], k = 4)"
   ]
  },
  {
   "cell_type": "code",
   "execution_count": 5,
   "metadata": {},
   "outputs": [],
   "source": [
    "import collections\n",
    "def topKFrequent(nums, k):\n",
    "    heap = []\n",
    "    \n",
    "    for k, v in collections.Counter(nums).items():\n",
    "        heapq.heappush(heap, )\n",
    "    \n"
   ]
  },
  {
   "cell_type": "code",
   "execution_count": 16,
   "metadata": {},
   "outputs": [],
   "source": [
    "a = [(2, 1), (1, 1), (1, 10)]"
   ]
  },
  {
   "cell_type": "code",
   "execution_count": 17,
   "metadata": {},
   "outputs": [],
   "source": [
    "heapq.heapify(a)"
   ]
  },
  {
   "cell_type": "code",
   "execution_count": 18,
   "metadata": {},
   "outputs": [
    {
     "data": {
      "text/plain": [
       "[(1, 1), (2, 1), (1, 10)]"
      ]
     },
     "execution_count": 18,
     "metadata": {},
     "output_type": "execute_result"
    }
   ],
   "source": [
    "a"
   ]
  },
  {
   "cell_type": "code",
   "execution_count": 52,
   "metadata": {},
   "outputs": [],
   "source": [
    "def threeSum(nums):\n",
    "        \"\"\"\n",
    "        :type nums: List[int]\n",
    "        :rtype: List[List[int]]\n",
    "        \"\"\"\n",
    "        if len(nums) < 3:\n",
    "            return []\n",
    "        elif len(nums) == 3:\n",
    "            if sum(nums) == 0:\n",
    "                return [sorted(nums)]\n",
    "        \n",
    "        nums = sorted(nums)\n",
    "        res = []\n",
    "        for i in range(len(nums) - 3):\n",
    "            lower = i + 1\n",
    "            upper = len(nums) - 1\n",
    "            while lower < upper:\n",
    "                sum_of = nums[i] + nums[lower] + nums[upper]\n",
    "                if sum_of == 0:\n",
    "                    res.append((nums[i], nums[lower], nums[upper]))         \n",
    "                if sum_of > 0:\n",
    "                    upper -= 1\n",
    "                else:\n",
    "                    lower += 1\n",
    "                \n",
    "        return list(set(res))\n",
    "                "
   ]
  },
  {
   "cell_type": "code",
   "execution_count": 53,
   "metadata": {},
   "outputs": [
    {
     "data": {
      "text/plain": [
       "[(0, 0, 0)]"
      ]
     },
     "execution_count": 53,
     "metadata": {},
     "output_type": "execute_result"
    }
   ],
   "source": [
    "threeSum([0,0,0,0])"
   ]
  },
  {
   "cell_type": "code",
   "execution_count": 73,
   "metadata": {},
   "outputs": [],
   "source": [
    "def mergeTwoSortedLists(a, b):\n",
    "    res_num = len(a) + len(b)\n",
    "    res = [[None]] * res_num\n",
    "    k = 0\n",
    "    i = 0\n",
    "    j = 0\n",
    "    while i < len(a) and j < len(b):\n",
    "        if a[i] <= b[j]:\n",
    "            res[k] = a[i]\n",
    "            i += 1 \n",
    "            k += 1 \n",
    "        else:\n",
    "            res[k] = b[j]\n",
    "            j += 1 \n",
    "            k += 1\n",
    "    \n",
    "    while i < len(a):\n",
    "        res[k] = a[i]\n",
    "        i += 1 \n",
    "        k += 1\n",
    "    while j < len(b):\n",
    "        res[k] = b[j]\n",
    "        j += 1 \n",
    "        k += 1 \n",
    "    return res "
   ]
  },
  {
   "cell_type": "code",
   "execution_count": 76,
   "metadata": {},
   "outputs": [],
   "source": [
    "my_list     =[3, 4, 6, 10, 11]\n",
    "alices_list = [1, 5, 8, 12, 14, 19, 23, 45]"
   ]
  },
  {
   "cell_type": "code",
   "execution_count": 77,
   "metadata": {},
   "outputs": [
    {
     "data": {
      "text/plain": [
       "[1, 3, 4, 5, 6, 8, 10, 11, 12, 14, 19, 23, 45]"
      ]
     },
     "execution_count": 77,
     "metadata": {},
     "output_type": "execute_result"
    }
   ],
   "source": [
    "mergeTwoSortedLists(my_list, alices_list)"
   ]
  },
  {
   "cell_type": "code",
   "execution_count": 24,
   "metadata": {},
   "outputs": [],
   "source": [
    " def subarraySum(nums, k):\n",
    "\n",
    "        sums = {0:1} # prefix sum array\n",
    "        res = s = 0\n",
    "        for n in nums:\n",
    "            s += n # increment current sum\n",
    "            res += sums.get(s - k, 0) # check if there is a prefix subarray we can take out to reach k\n",
    "            sums[s] = sums.get(s, 0) + 1 # add current sum to sum count\n",
    "           \n",
    "        return res"
   ]
  },
  {
   "cell_type": "code",
   "execution_count": 25,
   "metadata": {},
   "outputs": [
    {
     "data": {
      "text/plain": [
       "6"
      ]
     },
     "execution_count": 25,
     "metadata": {},
     "output_type": "execute_result"
    }
   ],
   "source": [
    "subarraySum([1, 2, 1, 4, 1, 1, 1, 1, 1, 1], 3)"
   ]
  },
  {
   "cell_type": "code",
   "execution_count": null,
   "metadata": {},
   "outputs": [],
   "source": []
  }
 ],
 "metadata": {
  "kernelspec": {
   "display_name": "Python 3",
   "language": "python",
   "name": "python3"
  },
  "language_info": {
   "codemirror_mode": {
    "name": "ipython",
    "version": 3
   },
   "file_extension": ".py",
   "mimetype": "text/x-python",
   "name": "python",
   "nbconvert_exporter": "python",
   "pygments_lexer": "ipython3",
   "version": "3.7.0"
  }
 },
 "nbformat": 4,
 "nbformat_minor": 2
}
